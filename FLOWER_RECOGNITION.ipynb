{
 "cells": [
  {
   "cell_type": "code",
   "execution_count": 1,
   "metadata": {},
   "outputs": [
    {
     "name": "stdout",
     "output_type": "stream",
     "text": [
      "Requirement already satisfied: split_folders in c:\\users\\2019\\anaconda3\\lib\\site-packages (0.4.3)\n"
     ]
    },
    {
     "name": "stderr",
     "output_type": "stream",
     "text": [
      "WARNING: You are using pip version 20.2.3; however, version 20.3.3 is available.\n",
      "You should consider upgrading via the 'c:\\users\\2019\\anaconda3\\python.exe -m pip install --upgrade pip' command.\n"
     ]
    }
   ],
   "source": [
    "!pip install split_folders"
   ]
  },
  {
   "cell_type": "code",
   "execution_count": 2,
   "metadata": {},
   "outputs": [],
   "source": [
    "import splitfolders"
   ]
  },
  {
   "cell_type": "code",
   "execution_count": 3,
   "metadata": {},
   "outputs": [
    {
     "name": "stderr",
     "output_type": "stream",
     "text": [
      "Copying files: 4326 files [02:21, 30.58 files/s]\n"
     ]
    }
   ],
   "source": [
    "input_folder=\"D:\\DATASET\\Flower_recognition\\input_data\"\n",
    "output_folder=\"D:\\DATASET\\Flower recognition\\processed_data\"\n",
    "splitfolders.ratio(input_folder,output_folder,seed=42,ratio=(.6,.2,.2))"
   ]
  },
  {
   "cell_type": "code",
   "execution_count": 2,
   "metadata": {},
   "outputs": [],
   "source": [
    "from tensorflow.keras.layers import Conv2D,Flatten,Dense,MaxPooling2D,BatchNormalization,GlobalAveragePooling2D\n",
    "from tensorflow.keras.applications.resnet50 import preprocess_input,decode_predictions\n",
    "from tensorflow.keras.preprocessing.image import ImageDataGenerator,load_img\n",
    "from tensorflow.keras.applications.resnet50 import ResNet50\n",
    "from tensorflow.keras.preprocessing import image \n",
    "from tensorflow.keras.models import Sequential\n",
    "from tensorflow.keras.models import Model, load_model\n",
    "import matplotlib.pyplot as plt\n",
    "import numpy as np\n",
    "import pandas as pd"
   ]
  },
  {
   "cell_type": "code",
   "execution_count": 3,
   "metadata": {},
   "outputs": [],
   "source": [
    "img_height,img_width=(224,224)\n",
    "batch_size=32\n",
    "train_data_dir=r\"D:\\DATASET\\Flower recognition\\processed_data\\train\"\n",
    "valid_data_dir=r\"D:\\DATASET\\Flower recognition\\processed_data\\val\"\n",
    "test_data_dir=r\"D:\\DATASET\\Flower recognition\\processed_data\\test\""
   ]
  },
  {
   "cell_type": "code",
   "execution_count": 4,
   "metadata": {},
   "outputs": [
    {
     "name": "stdout",
     "output_type": "stream",
     "text": [
      "Found 1557 images belonging to 5 classes.\n",
      "Found 342 images belonging to 5 classes.\n"
     ]
    }
   ],
   "source": [
    "train_datagen=ImageDataGenerator(preprocessing_function=preprocess_input,\n",
    "        shear_range=0.2,\n",
    "        zoom_range=0.2,\n",
    "        horizontal_flip=True,\n",
    "        validation_split=0.4)\n",
    "\n",
    "train_generator=train_datagen.flow_from_directory(\n",
    "        train_data_dir,\n",
    "        target_size=(img_height,img_width),\n",
    "        batch_size=batch_size,\n",
    "        class_mode='categorical',\n",
    "        subset='training')\n",
    "\n",
    "valid_generator=train_datagen.flow_from_directory(\n",
    "        valid_data_dir,\n",
    "        target_size=(img_height,img_width),\n",
    "        batch_size=batch_size,\n",
    "        class_mode='categorical',\n",
    "        subset='validation')"
   ]
  },
  {
   "cell_type": "code",
   "execution_count": 5,
   "metadata": {},
   "outputs": [
    {
     "name": "stdout",
     "output_type": "stream",
     "text": [
      "Found 347 images belonging to 5 classes.\n"
     ]
    }
   ],
   "source": [
    "test_generator=train_datagen.flow_from_directory(\n",
    "        test_data_dir,\n",
    "        target_size=(img_height,img_width),\n",
    "        batch_size=1,\n",
    "        class_mode='categorical',\n",
    "        subset='validation')"
   ]
  },
  {
   "cell_type": "code",
   "execution_count": 6,
   "metadata": {},
   "outputs": [
    {
     "data": {
      "text/plain": [
       "(1, 224, 224, 3)"
      ]
     },
     "execution_count": 6,
     "metadata": {},
     "output_type": "execute_result"
    }
   ],
   "source": [
    "x,y= test_generator.next()\n",
    "x.shape"
   ]
  },
  {
   "cell_type": "code",
   "execution_count": 7,
   "metadata": {},
   "outputs": [
    {
     "data": {
      "text/plain": [
       "5"
      ]
     },
     "execution_count": 7,
     "metadata": {},
     "output_type": "execute_result"
    }
   ],
   "source": [
    "train_generator.num_classes"
   ]
  },
  {
   "cell_type": "code",
   "execution_count": 8,
   "metadata": {},
   "outputs": [
    {
     "name": "stdout",
     "output_type": "stream",
     "text": [
      "Epoch 1/10\n",
      "49/49 [==============================] - 190s 4s/step - loss: 0.8866 - accuracy: 0.7437\n",
      "Epoch 2/10\n",
      "49/49 [==============================] - 185s 4s/step - loss: 0.2470 - accuracy: 0.9146\n",
      "Epoch 3/10\n",
      "49/49 [==============================] - 186s 4s/step - loss: 0.1692 - accuracy: 0.9377\n",
      "Epoch 4/10\n",
      "49/49 [==============================] - 184s 4s/step - loss: 0.1332 - accuracy: 0.9538\n",
      "Epoch 5/10\n",
      "49/49 [==============================] - 194s 4s/step - loss: 0.0835 - accuracy: 0.9743\n",
      "Epoch 6/10\n",
      "49/49 [==============================] - 234s 5s/step - loss: 0.0842 - accuracy: 0.9698\n",
      "Epoch 7/10\n",
      "49/49 [==============================] - 221s 5s/step - loss: 0.0387 - accuracy: 0.9904\n",
      "Epoch 8/10\n",
      "49/49 [==============================] - 230s 5s/step - loss: 0.0547 - accuracy: 0.9788\n",
      "Epoch 9/10\n",
      "49/49 [==============================] - 248s 5s/step - loss: 0.0373 - accuracy: 0.9878\n",
      "Epoch 10/10\n",
      "49/49 [==============================] - 229s 5s/step - loss: 0.0475 - accuracy: 0.9801\n"
     ]
    },
    {
     "data": {
      "text/plain": [
       "<tensorflow.python.keras.callbacks.History at 0x170a0b06f08>"
      ]
     },
     "execution_count": 8,
     "metadata": {},
     "output_type": "execute_result"
    }
   ],
   "source": [
    "base_model=ResNet50(include_top=False,weights='imagenet')\n",
    "x=base_model.output\n",
    "x=GlobalAveragePooling2D()(x)\n",
    "x=Dense(1024,activation='relu')(x)\n",
    "predictions=Dense(train_generator.num_classes,activation='softmax')(x)\n",
    "model=Model(inputs=base_model.input,outputs=predictions)\n",
    "for layer in base_model.layers:\n",
    "       layer.trainable=False\n",
    "model.compile(optimizer='adam',loss='categorical_crossentropy',metrics=['accuracy'])\n",
    "model.fit(train_generator,epochs=10)"
   ]
  },
  {
   "cell_type": "code",
   "execution_count": 10,
   "metadata": {},
   "outputs": [],
   "source": [
    "model.save('D:\\DATASET\\Flower_recognition\\saved_model\\ResNet50_Flowers.h5')"
   ]
  },
  {
   "cell_type": "code",
   "execution_count": 11,
   "metadata": {},
   "outputs": [
    {
     "name": "stdout",
     "output_type": "stream",
     "text": [
      "347/347 - 66s - loss: 0.4098 - accuracy: 0.8991\n",
      "\n",
      "Test accuracy: 0.8991354703903198\n"
     ]
    }
   ],
   "source": [
    "test_loss,test_acc=model.evaluate(test_generator,verbose=2)\n",
    "print('\\nTest accuracy:',test_acc)"
   ]
  },
  {
   "cell_type": "code",
   "execution_count": 17,
   "metadata": {},
   "outputs": [
    {
     "data": {
      "image/png": "[encoded data removed]",
      "text/plain": [
       "<Figure size 432x288 with 2 Axes>"
      ]
     },
     "metadata": {
      "needs_background": "light"
     },
     "output_type": "display_data"
    },
    {
     "name": "stdout",
     "output_type": "stream",
     "text": [
      "test accuract : 89.9135446685879\n"
     ]
    }
   ],
   "source": [
    "import seaborn as sn\n",
    "import tensorflow as tf\n",
    "import pandas as pd\n",
    "\n",
    "model=tf.keras.models.load_model(\"D:\\DATASET\\Flower_recognition\\saved_model\\ResNet50_Flowers.h5\")\n",
    "filenames=test_generator.filenames\n",
    "nb_samples=len(test_generator)\n",
    "y_prob=[]\n",
    "y_act=[]\n",
    "for _ in range(nb_samples):\n",
    "    X_test,Y_test=test_generator.next()\n",
    "    y_prob.append(model.predict(X_test))\n",
    "    y_act.append(Y_test)\n",
    "    \n",
    "predicted_class=[list(train_generator.class_indices.keys())[i.argmax()] for i in y_prob]\n",
    "actual_class=[list(train_generator.class_indices.keys())[i.argmax()] for i in y_act]\n",
    "\n",
    "out_df=pd.DataFrame(np.vstack([predicted_class,actual_class]).T,columns=['predicted_class','actual_class'])\n",
    "confusion_matrix=pd.crosstab(out_df['actual_class'],out_df['predicted_class'],rownames=['Actual'],colnames=['predicted'])\n",
    "\n",
    "sn.heatmap(confusion_matrix,cmap='Blues',annot=True,fmt='d')\n",
    "plt.show()\n",
    "print('test accuract : {}'.format((np.diagonal(confusion_matrix).sum()/confusion_matrix.sum().sum()*100)))\n",
    "\n",
    "                                                                         "
   ]
  },
  {
   "cell_type": "code",
   "execution_count": null,
   "metadata": {},
   "outputs": [],
   "source": []
  }
 ],
 "metadata": {
  "kernelspec": {
   "display_name": "Python 3",
   "language": "python",
   "name": "python3"
  },
  "language_info": {
   "codemirror_mode": {
    "name": "ipython",
    "version": 3
   },
   "file_extension": ".py",
   "mimetype": "text/x-python",
   "name": "python",
   "nbconvert_exporter": "python",
   "pygments_lexer": "ipython3",
   "version": "3.7.6"
  }
 },
 "nbformat": 4,
 "nbformat_minor": 4
}
