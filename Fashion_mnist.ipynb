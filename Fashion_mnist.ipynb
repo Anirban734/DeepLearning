{
  "nbformat": 4,
  "nbformat_minor": 0,
  "metadata": {
    "colab": {
      "name": "Fashion_mnist.ipynb",
      "provenance": [],
      "collapsed_sections": []
    },
    "kernelspec": {
      "name": "python3",
      "display_name": "Python 3"
    }
  },
  "cells": [
    {
      "cell_type": "code",
      "metadata": {
        "id": "voIOfS5Zubp4"
      },
      "source": [
        "#Importing the packages\n",
        "import tensorflow as tf #import tensorflow\n",
        "from tensorflow import keras\n",
        "from tensorflow.keras.models import Sequential\n",
        "from tensorflow.keras.layers import Conv2D, Dense, Flatten,MaxPooling2D\n",
        "import numpy as np\n",
        "import pandas as pd\n",
        "import matplotlib.pyplot as plt\n",
        "import seaborn as sns \n"
      ],
      "execution_count": null,
      "outputs": []
    },
    {
      "cell_type": "markdown",
      "metadata": {
        "id": "KAbCQKHOSVDP"
      },
      "source": [
        "##Step 1 : Importing the dataset"
      ]
    },
    {
      "cell_type": "code",
      "metadata": {
        "id": "bl6a7dufvJCT"
      },
      "source": [
        "fashion_mnist=keras.datasets.fashion_mnist #load the datasets fashion_mnist from keras"
      ],
      "execution_count": null,
      "outputs": []
    },
    {
      "cell_type": "code",
      "metadata": {
        "id": "3Wmz7QhNv8N0",
        "outputId": "b0e5bc0b-091b-4ca5-cfe0-ba4dc95e8af2",
        "colab": {
          "base_uri": "https://localhost:8080/"
        }
      },
      "source": [
        "(train_images,train_labels),(test_images,test_labels)=fashion_mnist.load_data() #load the data from fashion_mnist"
      ],
      "execution_count": null,
      "outputs": [
        {
          "output_type": "stream",
          "text": [
            "Downloading data from https://storage.googleapis.com/tensorflow/tf-keras-datasets/train-labels-idx1-ubyte.gz\n",
            "32768/29515 [=================================] - 0s 0us/step\n",
            "Downloading data from https://storage.googleapis.com/tensorflow/tf-keras-datasets/train-images-idx3-ubyte.gz\n",
            "26427392/26421880 [==============================] - 2s 0us/step\n",
            "Downloading data from https://storage.googleapis.com/tensorflow/tf-keras-datasets/t10k-labels-idx1-ubyte.gz\n",
            "8192/5148 [===============================================] - 0s 0us/step\n",
            "Downloading data from https://storage.googleapis.com/tensorflow/tf-keras-datasets/t10k-images-idx3-ubyte.gz\n",
            "4423680/4422102 [==============================] - 0s 0us/step\n"
          ],
          "name": "stdout"
        }
      ]
    },
    {
      "cell_type": "markdown",
      "metadata": {
        "id": "FGAxO287Sn0Z"
      },
      "source": [
        "##Step 2: Processing the Data"
      ]
    },
    {
      "cell_type": "code",
      "metadata": {
        "id": "V1gfXCIDwXad"
      },
      "source": [
        "train_images=train_images/255.0   #convert the data to the value of 0 and 1 for greyscale images\n",
        "test_images=test_images/255.0"
      ],
      "execution_count": null,
      "outputs": []
    },
    {
      "cell_type": "code",
      "metadata": {
        "id": "HUp9WfMxyTRe",
        "outputId": "af92faf3-e1c7-473b-add9-29635f680456",
        "colab": {
          "base_uri": "https://localhost:8080/"
        }
      },
      "source": [
        "train_images[0].shape #calculate the size of the data"
      ],
      "execution_count": null,
      "outputs": [
        {
          "output_type": "execute_result",
          "data": {
            "text/plain": [
              "(28, 28)"
            ]
          },
          "metadata": {
            "tags": []
          },
          "execution_count": 5
        }
      ]
    },
    {
      "cell_type": "code",
      "metadata": {
        "id": "tt-bB0tcggAp",
        "outputId": "c2215df5-36d9-464b-90f1-558c1dfb018e",
        "colab": {
          "base_uri": "https://localhost:8080/"
        }
      },
      "source": [
        "test_images[0].shape"
      ],
      "execution_count": null,
      "outputs": [
        {
          "output_type": "execute_result",
          "data": {
            "text/plain": [
              "(28, 28)"
            ]
          },
          "metadata": {
            "tags": []
          },
          "execution_count": 6
        }
      ]
    },
    {
      "cell_type": "code",
      "metadata": {
        "id": "EBWXic4bOdFC"
      },
      "source": [
        "train_images=train_images.reshape(len(train_images),28,28,1)\n",
        "test_images=test_images.reshape(len(test_images),28,28,1)"
      ],
      "execution_count": null,
      "outputs": []
    },
    {
      "cell_type": "code",
      "metadata": {
        "id": "A6-HkNsVJPr4",
        "outputId": "8eacb015-989b-4c8d-8b69-4ba478bcea48",
        "colab": {
          "base_uri": "https://localhost:8080/"
        }
      },
      "source": [
        "print('Training set size:',train_images.shape,'\\nTest set size:',test_images.shape)"
      ],
      "execution_count": null,
      "outputs": [
        {
          "output_type": "stream",
          "text": [
            "Training set size: (60000, 28, 28, 1) \n",
            "Test set size: (10000, 28, 28, 1)\n"
          ],
          "name": "stdout"
        }
      ]
    },
    {
      "cell_type": "markdown",
      "metadata": {
        "id": "rSChL-cHSK6W"
      },
      "source": [
        "###Step **3**: Data Visualization"
      ]
    },
    {
      "cell_type": "code",
      "metadata": {
        "id": "vE8Um9s6KYNG"
      },
      "source": [
        "labels = ['T-shirt/top',\n",
        "          'Trouser',\n",
        "          'Pullover',\n",
        "          'Dress','Coat','Sandal','Shirt','Sneaker',\n",
        "          'Bag',\n",
        "          'Ankle boot'] "
      ],
      "execution_count": null,
      "outputs": []
    },
    {
      "cell_type": "code",
      "metadata": {
        "id": "gjz-wOp5PVDK",
        "outputId": "6c168f41-f183-4eab-8a16-8f9f2e90ade7",
        "colab": {
          "base_uri": "https://localhost:8080/",
          "height": 282
        }
      },
      "source": [
        "np.random.seed(5)\n",
        "\n",
        "idx = np.random.randint(low = 0 , high = 59999) #randomly selecting an index\n",
        "\n",
        "visual_img = train_images[idx].reshape(28 , 28) #reshaping to visualize the image\n",
        "plt.imshow(visual_img) #using matplotlib to visualize an image\n",
        "\n",
        "print('Labels:',labels[train_labels[idx]]) #printing the label"
      ],
      "execution_count": null,
      "outputs": [
        {
          "output_type": "stream",
          "text": [
            "Labels: Ankle boot\n"
          ],
          "name": "stdout"
        },
        {
          "output_type": "display_data",
          "data": {
            "image/png": "[encoded data removed]",
            "text/plain": [
              "<Figure size 432x288 with 1 Axes>"
            ]
          },
          "metadata": {
            "tags": [],
            "needs_background": "light"
          }
        }
      ]
    },
    {
      "cell_type": "markdown",
      "metadata": {
        "id": "zJNKFx1sSzOw"
      },
      "source": [
        "##Step 4: Modelling the Neural Network"
      ]
    },
    {
      "cell_type": "code",
      "metadata": {
        "id": "Bz8sjiROPyjy"
      },
      "source": [
        "model = Sequential([\n",
        "    Conv2D(32 , kernel_size = (3 , 3) ,\n",
        "           kernel_initializer = 'he_uniform' ,\n",
        "           bias_initializer = 'zeros' , \n",
        "           activation = 'relu', input_shape = (28 , 28 , 1)),\n",
        "    MaxPooling2D((2,2)),\n",
        "    Conv2D(64 , kernel_size = (3 , 3) , kernel_initializer = 'he_uniform' ,\n",
        "           bias_initializer = 'zeros' , \n",
        "           activation = 'relu' ),\n",
        "    MaxPooling2D((3,3)),\n",
        "    Flatten(),\n",
        "    Dense(64 , activation = 'relu'),\n",
        "    Dense(64 , activation = 'relu'),\n",
        "    Dense(10 , activation = 'sigmoid')\n",
        "])"
      ],
      "execution_count": null,
      "outputs": []
    },
    {
      "cell_type": "code",
      "metadata": {
        "id": "Y69jM0SmP6ku",
        "outputId": "80ac78df-adec-449e-b93f-2a3faae678f9",
        "colab": {
          "base_uri": "https://localhost:8080/"
        }
      },
      "source": [
        "model.summary()"
      ],
      "execution_count": null,
      "outputs": [
        {
          "output_type": "stream",
          "text": [
            "Model: \"sequential\"\n",
            "_________________________________________________________________\n",
            "Layer (type)                 Output Shape              Param #   \n",
            "=================================================================\n",
            "conv2d (Conv2D)              (None, 26, 26, 32)        320       \n",
            "_________________________________________________________________\n",
            "max_pooling2d (MaxPooling2D) (None, 13, 13, 32)        0         \n",
            "_________________________________________________________________\n",
            "conv2d_1 (Conv2D)            (None, 11, 11, 64)        18496     \n",
            "_________________________________________________________________\n",
            "max_pooling2d_1 (MaxPooling2 (None, 3, 3, 64)          0         \n",
            "_________________________________________________________________\n",
            "flatten (Flatten)            (None, 576)               0         \n",
            "_________________________________________________________________\n",
            "dense (Dense)                (None, 64)                36928     \n",
            "_________________________________________________________________\n",
            "dense_1 (Dense)              (None, 64)                4160      \n",
            "_________________________________________________________________\n",
            "dense_2 (Dense)              (None, 10)                650       \n",
            "=================================================================\n",
            "Total params: 60,554\n",
            "Trainable params: 60,554\n",
            "Non-trainable params: 0\n",
            "_________________________________________________________________\n"
          ],
          "name": "stdout"
        }
      ]
    },
    {
      "cell_type": "code",
      "metadata": {
        "id": "BSv14VfqP-q4"
      },
      "source": [
        "model.compile(optimizer = 'adam',\n",
        "              loss = 'sparse_categorical_crossentropy',\n",
        "              metrics = ['accuracy'])"
      ],
      "execution_count": null,
      "outputs": []
    },
    {
      "cell_type": "code",
      "metadata": {
        "id": "hxBOOLm2QDGs",
        "outputId": "be5869dc-1d23-4444-de14-7ef7ec0cf30e",
        "colab": {
          "base_uri": "https://localhost:8080/"
        }
      },
      "source": [
        "history = model.fit(train_images,train_labels,epochs=10,batch_size=16)"
      ],
      "execution_count": null,
      "outputs": [
        {
          "output_type": "stream",
          "text": [
            "Epoch 1/10\n",
            "3750/3750 [==============================] - 56s 15ms/step - loss: 0.5054 - accuracy: 0.8120\n",
            "Epoch 2/10\n",
            "3750/3750 [==============================] - 57s 15ms/step - loss: 0.3344 - accuracy: 0.8765\n",
            "Epoch 3/10\n",
            "3750/3750 [==============================] - 56s 15ms/step - loss: 0.2870 - accuracy: 0.8935\n",
            "Epoch 4/10\n",
            "3750/3750 [==============================] - 56s 15ms/step - loss: 0.2604 - accuracy: 0.9027\n",
            "Epoch 5/10\n",
            "3750/3750 [==============================] - 56s 15ms/step - loss: 0.2384 - accuracy: 0.9121\n",
            "Epoch 6/10\n",
            "3750/3750 [==============================] - 62s 17ms/step - loss: 0.2195 - accuracy: 0.9179\n",
            "Epoch 7/10\n",
            "3750/3750 [==============================] - 56s 15ms/step - loss: 0.2051 - accuracy: 0.9233\n",
            "Epoch 8/10\n",
            "3750/3750 [==============================] - 55s 15ms/step - loss: 0.1929 - accuracy: 0.9275\n",
            "Epoch 9/10\n",
            "3750/3750 [==============================] - 55s 15ms/step - loss: 0.1827 - accuracy: 0.9312\n",
            "Epoch 10/10\n",
            "3750/3750 [==============================] - 54s 14ms/step - loss: 0.1710 - accuracy: 0.9345\n"
          ],
          "name": "stdout"
        }
      ]
    },
    {
      "cell_type": "code",
      "metadata": {
        "id": "d7sYi6BSQPTE",
        "outputId": "16afbb71-1b36-4bf5-9818-1bd55a1334aa",
        "colab": {
          "base_uri": "https://localhost:8080/",
          "height": 195
        }
      },
      "source": [
        "df=pd.DataFrame(history.history)\n",
        "df.head()"
      ],
      "execution_count": null,
      "outputs": [
        {
          "output_type": "execute_result",
          "data": {
            "text/html": [
              "<div>\n",
              "<style scoped>\n",
              "    .dataframe tbody tr th:only-of-type {\n",
              "        vertical-align: middle;\n",
              "    }\n",
              "\n",
              "    .dataframe tbody tr th {\n",
              "        vertical-align: top;\n",
              "    }\n",
              "\n",
              "    .dataframe thead th {\n",
              "        text-align: right;\n",
              "    }\n",
              "</style>\n",
              "<table border=\"1\" class=\"dataframe\">\n",
              "  <thead>\n",
              "    <tr style=\"text-align: right;\">\n",
              "      <th></th>\n",
              "      <th>loss</th>\n",
              "      <th>accuracy</th>\n",
              "    </tr>\n",
              "  </thead>\n",
              "  <tbody>\n",
              "    <tr>\n",
              "      <th>0</th>\n",
              "      <td>0.505385</td>\n",
              "      <td>0.812050</td>\n",
              "    </tr>\n",
              "    <tr>\n",
              "      <th>1</th>\n",
              "      <td>0.334361</td>\n",
              "      <td>0.876500</td>\n",
              "    </tr>\n",
              "    <tr>\n",
              "      <th>2</th>\n",
              "      <td>0.286988</td>\n",
              "      <td>0.893550</td>\n",
              "    </tr>\n",
              "    <tr>\n",
              "      <th>3</th>\n",
              "      <td>0.260368</td>\n",
              "      <td>0.902667</td>\n",
              "    </tr>\n",
              "    <tr>\n",
              "      <th>4</th>\n",
              "      <td>0.238361</td>\n",
              "      <td>0.912067</td>\n",
              "    </tr>\n",
              "  </tbody>\n",
              "</table>\n",
              "</div>"
            ],
            "text/plain": [
              "       loss  accuracy\n",
              "0  0.505385  0.812050\n",
              "1  0.334361  0.876500\n",
              "2  0.286988  0.893550\n",
              "3  0.260368  0.902667\n",
              "4  0.238361  0.912067"
            ]
          },
          "metadata": {
            "tags": []
          },
          "execution_count": 20
        }
      ]
    },
    {
      "cell_type": "code",
      "metadata": {
        "id": "rb1bY8pk2jKf",
        "outputId": "1894cd96-bbc1-42a2-ec27-68801cd88523",
        "colab": {
          "base_uri": "https://localhost:8080/",
          "height": 295
        }
      },
      "source": [
        "df.plot(y = 'loss') \n",
        "plt.xlabel('No. of Epochs')\n",
        "plt.ylabel('Loss')\n",
        "plt.title('Loss vs No. of Epochs')\n",
        "plt.show()"
      ],
      "execution_count": null,
      "outputs": [
        {
          "output_type": "display_data",
          "data": {
            "image/png": "[encoded data removed]",
            "text/plain": [
              "<Figure size 432x288 with 1 Axes>"
            ]
          },
          "metadata": {
            "tags": [],
            "needs_background": "light"
          }
        }
      ]
    },
    {
      "cell_type": "code",
      "metadata": {
        "id": "GRYpiSk22_FK",
        "outputId": "a87f0c63-b744-4912-dc2d-bbd59c785649",
        "colab": {
          "base_uri": "https://localhost:8080/",
          "height": 295
        }
      },
      "source": [
        "df.plot(y = 'accuracy')\n",
        "plt.xlabel('No. of Epochs')\n",
        "plt.ylabel('Accuracy')\n",
        "plt.title('Accuracy vs No. of Epochs')\n",
        "\n",
        "plt.show()"
      ],
      "execution_count": null,
      "outputs": [
        {
          "output_type": "display_data",
          "data": {
            "image/png": "[encoded data removed]",
            "text/plain": [
              "<Figure size 432x288 with 1 Axes>"
            ]
          },
          "metadata": {
            "tags": [],
            "needs_background": "light"
          }
        }
      ]
    },
    {
      "cell_type": "code",
      "metadata": {
        "id": "EHvMI4HT5CDN"
      },
      "source": [
        "import matplotlib.pyplot as plt\n",
        "import numpy as np"
      ],
      "execution_count": null,
      "outputs": []
    },
    {
      "cell_type": "code",
      "metadata": {
        "id": "XpS13hXBKX6m",
        "outputId": "3c00d7ae-960b-4abf-f600-809bd889487e",
        "colab": {
          "base_uri": "https://localhost:8080/"
        }
      },
      "source": [
        "#Evaluate the the model on test sets\n",
        "test_loss,test_accuracy=model.evaluate(test_images[...,np.newaxis],test_labels)\n",
        "print('Loss is:',test_loss,'\\nAccuracy is:',test_accuracy) "
      ],
      "execution_count": null,
      "outputs": [
        {
          "output_type": "stream",
          "text": [
            "313/313 [==============================] - 3s 9ms/step - loss: 0.2986 - accuracy: 0.8995\n",
            "Loss is: 0.2985580265522003 \n",
            "Accuracy is: 0.8995000123977661\n"
          ],
          "name": "stdout"
        }
      ]
    },
    {
      "cell_type": "code",
      "metadata": {
        "id": "tFudTz5FLDq8",
        "outputId": "03ae6207-baa0-4862-f9c5-8f3698bcfaa8",
        "colab": {
          "base_uri": "https://localhost:8080/"
        }
      },
      "source": [
        "#make predictions from the model\n",
        "np.random.seed(33)\n",
        "\n",
        "idx_test = np.random.randint(low = 0 , high = 9999)\n",
        "visual_img = test_images[idx_test]\n",
        "plt.show()\n",
        "pred = model.predict(img.reshape(28 , 28,1)[np.newaxis,...])\n",
        "print('The predicted label is:' , labels[np.argmax(pred)] , '\\nThe original label is:',labels[test_labels[idx_test]])"
      ],
      "execution_count": null,
      "outputs": [
        {
          "output_type": "stream",
          "text": [
            "The predicted label is: Shirt \n",
            "The original label is: Shirt\n"
          ],
          "name": "stdout"
        }
      ]
    },
    {
      "cell_type": "code",
      "metadata": {
        "id": "aHvGvxgZNW1V"
      },
      "source": [
        ""
      ],
      "execution_count": null,
      "outputs": []
    }
  ]
}